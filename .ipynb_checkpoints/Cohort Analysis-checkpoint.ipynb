{
 "cells": [
  {
   "cell_type": "markdown",
   "metadata": {},
   "source": [
    "# Cohort Analysis \n",
    "By Sarah May\n",
    "05/02/2017"
   ]
  },
  {
   "cell_type": "markdown",
   "metadata": {},
   "source": [
    "### Used to merge seperate surveys sent to the same group of students. \n",
    "\n",
    "#### Determines which students were sent which surveys, and which students were sent all  surveys. \n",
    "#### Saves results within a results sub-directory.\n",
    "#### Students are identified by their emails, which are unique even after graduating.\n",
    "#### Both student emails and student_ids are stored in the output file. "
   ]
  },
  {
   "cell_type": "markdown",
   "metadata": {},
   "source": [
    "## Instructions: \n",
    "Below, replace the first three \"None\" values with:\n",
    "1. the directory that contains the cohort survey files \n",
    "2. the column number (between 0 and n inclusive) of the email column\n",
    "3. the column number (between 0 and n inclusive) of the student id column\n",
    "IMPORTANT: if the file has a header row, change the value of the has_headers variable from False to True\n",
    "\n",
    "### Important information about the directory and format of the inputs: \n",
    "* The directory should contain only the CSV files that represent surveys meant to be part of the cohort. No extra CSV files should be present in the directory.\n",
    "* Each CSV file should be in the same format (i.e. the keycol and idcol should be the same for each CSV file in the directory)\n",
    "* The surveys will be identified by the names of the files, so make them descriptive. \n",
    "* This will create an output sub-folder within the called \"results\". If a subfolder named \"results\" already exists, the files will be written there. \n",
    "\n"
   ]
  },
  {
   "cell_type": "code",
   "execution_count": 8,
   "metadata": {
    "collapsed": false
   },
   "outputs": [
    {
     "ename": "TypeError",
     "evalue": "cannot concatenate 'str' and 'NoneType' objects",
     "output_type": "error",
     "traceback": [
      "\u001b[0;31m---------------------------------------------------------------------------\u001b[0m",
      "\u001b[0;31mTypeError\u001b[0m                                 Traceback (most recent call last)",
      "\u001b[0;32m<ipython-input-8-224fc63143fb>\u001b[0m in \u001b[0;36m<module>\u001b[0;34m()\u001b[0m\n\u001b[1;32m     10\u001b[0m \u001b[0mcd\u001b[0m \u001b[0;34m=\u001b[0m \u001b[0mos\u001b[0m\u001b[0;34m.\u001b[0m\u001b[0mgetcwd\u001b[0m\u001b[0;34m(\u001b[0m\u001b[0;34m)\u001b[0m\u001b[0;34m\u001b[0m\u001b[0m\n\u001b[1;32m     11\u001b[0m \u001b[0mfile_names\u001b[0m \u001b[0;34m=\u001b[0m \u001b[0;34m[\u001b[0m\u001b[0;34m]\u001b[0m\u001b[0;34m\u001b[0m\u001b[0m\n\u001b[0;32m---> 12\u001b[0;31m \u001b[0;32mfor\u001b[0m \u001b[0mfile\u001b[0m \u001b[0;32min\u001b[0m \u001b[0mos\u001b[0m\u001b[0;34m.\u001b[0m\u001b[0mlistdir\u001b[0m\u001b[0;34m(\u001b[0m\u001b[0mcd\u001b[0m \u001b[0;34m+\u001b[0m \u001b[0;34m\"/\"\u001b[0m \u001b[0;34m+\u001b[0m \u001b[0mdirectory\u001b[0m\u001b[0;34m)\u001b[0m\u001b[0;34m:\u001b[0m\u001b[0;34m\u001b[0m\u001b[0m\n\u001b[0m\u001b[1;32m     13\u001b[0m     \u001b[0mform\u001b[0m \u001b[0;34m=\u001b[0m \u001b[0mfile\u001b[0m\u001b[0;34m.\u001b[0m\u001b[0msplit\u001b[0m\u001b[0;34m(\u001b[0m\u001b[0;34m'.'\u001b[0m\u001b[0;34m)\u001b[0m\u001b[0;34m\u001b[0m\u001b[0m\n\u001b[1;32m     14\u001b[0m     \u001b[0;32mif\u001b[0m \u001b[0mlen\u001b[0m\u001b[0;34m(\u001b[0m\u001b[0mform\u001b[0m\u001b[0;34m)\u001b[0m \u001b[0;34m>\u001b[0m \u001b[0;36m1\u001b[0m\u001b[0;34m:\u001b[0m\u001b[0;34m\u001b[0m\u001b[0m\n",
      "\u001b[0;31mTypeError\u001b[0m: cannot concatenate 'str' and 'NoneType' objects"
     ]
    }
   ],
   "source": [
    "import os\n",
    "import csv\n",
    "import argparse \n",
    "\n",
    "directory = None\n",
    "keycol = None\n",
    "idcol = None\n",
    "has_headers = False\n",
    "\n",
    "cd = os.getcwd()\n",
    "file_names = []\n",
    "for file in os.listdir(cd + \"/\" + directory): \n",
    "    form = file.split('.')\n",
    "    if len(form) > 1: \n",
    "        form = form[1]\n",
    "        if form == 'csv': \n",
    "            file_names.append(directory + \"/\" + file)\n",
    "find_cohort(file_names, keycol, idcol, has_headers)\n",
    "print \"\\nDONE.\\n\""
   ]
  },
  {
   "cell_type": "markdown",
   "metadata": {},
   "source": [
    "## Code below to read/edit ~~~~ "
   ]
  },
  {
   "cell_type": "markdown",
   "metadata": {},
   "source": [
    "get_surveylist takes and updates a dictionary that maps student emails to \"ids:::the survey\" if they were sent it\n",
    "This is a helper method for find_cohort, defined below "
   ]
  },
  {
   "cell_type": "code",
   "execution_count": 7,
   "metadata": {
    "collapsed": false
   },
   "outputs": [],
   "source": [
    "def get_surveylist(file, keycol, idcol, survey_dict, has_headers): \n",
    "    \"\"\"Given a .csv file, the locations of email/id columns [0..n], inclusive, and a survey_dict that maps students\n",
    "    by email and id to surveys, updates the survey_dict for the current file. \"\"\"\n",
    "    \n",
    "    cd = os.getcwd()\n",
    "    print \"\\ncurrent working directory: {c}\\n\".format(c=cd)\n",
    "    with open(cd + '/' + file, 'rU') as f:\n",
    "        rd_f = csv.reader(f)\n",
    "        f_list = list(rd_f)\n",
    "    \n",
    "    if has_headers:\n",
    "        f_list = f_list[1:]\n",
    "    \n",
    "    for row in f_list: \n",
    "        if row[keycol] in survey_dict: \n",
    "            survey_dict[row[keycol]].append(file.split('.')[0] + \":::\" + row[idcol])\n",
    "        else:\n",
    "            survey_dict[row[keycol]] = [file.split('.')[0]+ \":::\" + row[idcol]]\n",
    "    \n",
    "    return survey_dict"
   ]
  },
  {
   "cell_type": "markdown",
   "metadata": {},
   "source": [
    "Below, we define the function find_cohort, which takes:\n",
    "    1. a list of file names \n",
    "    2. keycol -- column of the student email \n",
    "    3. idcol -- column of the student id \n",
    "and writes two files by calling get_surveylist:\n",
    "    1. results/cohort.csv -- contains student ids and emails who were sent all surveys (+ names of surveys)\n",
    "    2. results/results.csv -- contains student ids and emails and the surveys they were sent "
   ]
  },
  {
   "cell_type": "code",
   "execution_count": 10,
   "metadata": {
    "collapsed": true
   },
   "outputs": [],
   "source": [
    "def find_cohort(file_names, keycol, idcol, has_headers):\n",
    "    \"\"\"Given a list of file names, writes to a results file the names of each \n",
    "    student_id, corresponding email, and the surveys they were sent.  The ids and emails \n",
    "    who were sent all surveys are also written to a cohort.csv file. \"\"\"\n",
    "    \n",
    "    cd = os.getcwd()\n",
    "    survey_dict = {}\n",
    "    \n",
    "    for f in file_names: \n",
    "        print \"\\nLooking at file: {f}\\n\".format(f=f)\n",
    "        survey_dict = get_surveylist(f, keycol, idcol, survey_dict, has_headers)\n",
    "    \n",
    "    # set up results directory and files. WILL DELETE any pre-existing\n",
    "    # csv files named results.csv / cohort.csv within a results subdirectory\n",
    "    if not os.path.isdir(cd + \"/results\"): \n",
    "        os.mkdir(\"results\")\n",
    "    if os.path.isfile(cd + \"/results/cohort.csv\"): \n",
    "        os.remove(cd + \"/results/cohort.csv\")\n",
    "    if os.path.isfile(cd + \"/results/results.csv\"): \n",
    "        os.remove(cd + \"/results/results.csv\")\n",
    "        \n",
    "    os.chdir(cd +\"/results\")\n",
    "\n",
    "    cohort_csv = open(cd+\"/results/cohort.csv\", \"w+\")\n",
    "    w_cohort = csv.writer(cohort_csv)\n",
    "    results_csv = open(cd+\"/results/results.csv\", \"w+\")\n",
    "    w_results = csv.writer(results_csv)\n",
    "\n",
    "    for key, values in survey_dict.iteritems():  \n",
    "        row = [key] + values\n",
    "        w_results.writerow(row)\n",
    "        if len(values) == len(file_names): \n",
    "            w_cohort.writerow(row)"
   ]
  }
 ],
 "metadata": {
  "kernelspec": {
   "display_name": "Python 2",
   "language": "python",
   "name": "python2"
  },
  "language_info": {
   "codemirror_mode": {
    "name": "ipython",
    "version": 2
   },
   "file_extension": ".py",
   "mimetype": "text/x-python",
   "name": "python",
   "nbconvert_exporter": "python",
   "pygments_lexer": "ipython2",
   "version": "2.7.10"
  }
 },
 "nbformat": 4,
 "nbformat_minor": 2
}
